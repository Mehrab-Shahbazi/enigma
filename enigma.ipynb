{
  "nbformat": 4,
  "nbformat_minor": 0,
  "metadata": {
    "colab": {
      "provenance": []
    },
    "kernelspec": {
      "name": "python3",
      "display_name": "Python 3"
    },
    "language_info": {
      "name": "python"
    }
  },
  "cells": [
    {
      "cell_type": "code",
      "execution_count": 16,
      "metadata": {
        "id": "QDrn1f3OOgjY"
      },
      "outputs": [],
      "source": [
        "class Rotor:\n",
        "    def __init__(self, wiring, notch, position=0):\n",
        "        # wiring: 26-char string mapping input to output\n",
        "        # notch: position at which next rotor is advanced\n",
        "        # position: initial rotor position (0-25)\n",
        "        self.wiring = wiring\n",
        "        self.notch = notch\n",
        "        self.position = position\n",
        "        self.ring_setting = 0  # For simplicity, set ring setting to 0\n",
        "\n",
        "    def encode_forward(self, c):\n",
        "        # c: int 0-25 input letter index\n",
        "        offset_c = (c + self.position - self.ring_setting) % 26\n",
        "        wired_c = ord(self.wiring[offset_c]) - ord('A')\n",
        "        output = (wired_c - self.position + self.ring_setting) % 26\n",
        "        return output\n",
        "\n",
        "    def encode_backward(self, c):\n",
        "        offset_c = (c + self.position - self.ring_setting) % 26\n",
        "        wired_c = self.wiring.index(chr(offset_c + ord('A')))\n",
        "        output = (wired_c - self.position + self.ring_setting) % 26\n",
        "        return output\n",
        "\n",
        "    def step(self):\n",
        "        self.position = (self.position + 1) % 26\n",
        "        # Returns True if rotor hits notch and should cause next rotor to step\n",
        "        return chr((self.position + ord('A')) % 26) == self.notch\n",
        "\n",
        "class Reflector:\n",
        "    def __init__(self, wiring):\n",
        "        self.wiring = wiring\n",
        "\n",
        "    def reflect(self, c):\n",
        "        return ord(self.wiring[c]) - ord('A')\n",
        "\n",
        "class EnigmaMachine:\n",
        "    def __init__(self, rotors, reflector):\n",
        "        # rotors: list of Rotor objects from right to left\n",
        "        self.rotors = rotors\n",
        "        self.reflector = reflector\n",
        "\n",
        "    def step_rotors(self):\n",
        "        # Step rotors like odometer with double stepping\n",
        "        step_next = self.rotors[0].step()\n",
        "        # For double stepping, check second rotor if first rotor is at notch\n",
        "        if step_next:\n",
        "            step_next_2 = self.rotors[1].step() if len(self.rotors) > 1 else False\n",
        "            if step_next_2 and len(self.rotors) > 2:\n",
        "                self.rotors[2].step()\n",
        "\n",
        "    def encode_char(self, ch):\n",
        "        if not ch.isalpha():\n",
        "            return ch\n",
        "        c = ord(ch.upper()) - ord('A')\n",
        "\n",
        "        self.step_rotors()\n",
        "\n",
        "        # Pass through rotors forward\n",
        "        for rotor in self.rotors:\n",
        "            c = rotor.encode_forward(c)\n",
        "\n",
        "        # Reflect\n",
        "        c = self.reflector.reflect(c)\n",
        "\n",
        "        # Pass through rotors backward (reverse order)\n",
        "        for rotor in reversed(self.rotors):\n",
        "            c = rotor.encode_backward(c)\n",
        "\n",
        "        return chr(c + ord('A'))\n",
        "\n",
        "    def encode_message(self, message):\n",
        "        result = \"\"\n",
        "        for ch in message:\n",
        "            result += self.encode_char(ch)\n",
        "        return result\n"
      ]
    },
    {
      "cell_type": "code",
      "source": [
        "\n",
        "# Example configurations:\n",
        "\n",
        "# Rotor wirings taken from historical Enigma I\n",
        "ROTOR_I = \"EKMFLGDQVZNTOWYHXUSPAIBRCJ\"\n",
        "ROTOR_II = \"AJDKSIRUXBLHWTMCQGZNPYFVOE\"\n",
        "ROTOR_III = \"BDFHJLCPRTXVZNYEIWGAKMUSQO\"\n",
        "\n",
        "# Notch positions\n",
        "NOTCH_I = 'Q'  # When rotor steps from Q to R, next rotor steps\n",
        "NOTCH_II = 'E'\n",
        "NOTCH_III = 'V'\n",
        "\n",
        "# Reflector B wiring\n",
        "REFLECTOR_B = \"YRUHQSLDPXNGOKMIEBFZCWVJAT\"\n",
        "\n",
        "# Setup rotors with initial positions\n",
        "rotor1 = Rotor(ROTOR_I, NOTCH_I, position=0)    # Right rotor\n",
        "rotor2 = Rotor(ROTOR_II, NOTCH_II, position=0)  # Middle rotor\n",
        "rotor3 = Rotor(ROTOR_III, NOTCH_III, position=0) # Left rotor\n",
        "\n",
        "reflector = Reflector(REFLECTOR_B)\n",
        "\n",
        "# Create machine\n",
        "enigma = EnigmaMachine([rotor1, rotor2, rotor3], reflector)\n",
        "\n",
        "input_text = \"HELLOWORLD\"\n",
        "print(\"Input:       \", input_text)\n",
        "encoded = enigma.encode_message(input_text)\n",
        "print(\"Encoded:     \", encoded)\n",
        "\n",
        "# To decode, reset rotors to same initial positions and use the same machine\n",
        "rotor1 = Rotor(ROTOR_I, NOTCH_I, position=0)\n",
        "rotor2 = Rotor(ROTOR_II, NOTCH_II, position=0)\n",
        "rotor3 = Rotor(ROTOR_III, NOTCH_III, position=0)\n",
        "enigma = EnigmaMachine([rotor1, rotor2, rotor3], reflector)\n",
        "\n",
        "decoded = enigma.encode_message(encoded)\n",
        "print(\"Decoded:     \", decoded)\n"
      ],
      "metadata": {
        "colab": {
          "base_uri": "https://localhost:8080/"
        },
        "id": "1Vf8VmDFQcKw",
        "outputId": "02424be1-b129-4393-9464-ce598169c0eb"
      },
      "execution_count": 17,
      "outputs": [
        {
          "output_type": "stream",
          "name": "stdout",
          "text": [
            "Input:        HELLOWORLD\n",
            "Encoded:      MFNCZBBFZM\n",
            "Decoded:      HELLOWORLD\n"
          ]
        }
      ]
    }
  ]
}